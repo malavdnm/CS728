{
 "cells": [
  {
   "cell_type": "code",
   "execution_count": 6,
   "id": "communist-italian",
   "metadata": {},
   "outputs": [],
   "source": [
    "import gensim\n",
    "model = gensim.models.KeyedVectors.load_word2vec_format('GoogleNews-vectors-negative300.bin', binary=True)  "
   ]
  },
  {
   "cell_type": "code",
   "execution_count": 10,
   "id": "pressed-consequence",
   "metadata": {},
   "outputs": [
    {
     "data": {
      "text/plain": [
       "(300,)"
      ]
     },
     "execution_count": 10,
     "metadata": {},
     "output_type": "execute_result"
    }
   ],
   "source": [
    "model['computer'].shape"
   ]
  },
  {
   "cell_type": "code",
   "execution_count": 21,
   "id": "orange-stupid",
   "metadata": {},
   "outputs": [
    {
     "name": "stdout",
     "output_type": "stream",
     "text": [
      "/home/malavdnm/Desktop/Sem-8/CS728/assignment/data_assn1/data_assn1/Train/Source/pp-with.sents.trng.xml\n",
      "/home/malavdnm/Desktop/Sem-8/CS728/assignment/data_assn1/data_assn1/Train/Source/pp-for.sents.trng.xml\n",
      "/home/malavdnm/Desktop/Sem-8/CS728/assignment/data_assn1/data_assn1/Train/Source/pp-above.sents.trng.xml\n",
      "/home/malavdnm/Desktop/Sem-8/CS728/assignment/data_assn1/data_assn1/Train/Source/pp-among.sents.trng.xml\n",
      "/home/malavdnm/Desktop/Sem-8/CS728/assignment/data_assn1/data_assn1/Train/Source/pp-against.sents.trng.xml\n",
      "/home/malavdnm/Desktop/Sem-8/CS728/assignment/data_assn1/data_assn1/Train/Source/pp-into.sents.trng.xml\n",
      "/home/malavdnm/Desktop/Sem-8/CS728/assignment/data_assn1/data_assn1/Train/Source/pp-down.sents.trng.xml\n",
      "/home/malavdnm/Desktop/Sem-8/CS728/assignment/data_assn1/data_assn1/Train/Source/pp-through.sents.trng.xml\n",
      "/home/malavdnm/Desktop/Sem-8/CS728/assignment/data_assn1/data_assn1/Train/Source/pp-inside.sents.trng.xml\n",
      "/home/malavdnm/Desktop/Sem-8/CS728/assignment/data_assn1/data_assn1/Train/Source/pp-along.sents.trng.xml\n",
      "/home/malavdnm/Desktop/Sem-8/CS728/assignment/data_assn1/data_assn1/Train/Source/pp-around.sents.trng.xml\n",
      "/home/malavdnm/Desktop/Sem-8/CS728/assignment/data_assn1/data_assn1/Train/Source/pp-by.sents.trng.xml\n",
      "/home/malavdnm/Desktop/Sem-8/CS728/assignment/data_assn1/data_assn1/Train/Source/pp-onto.sents.trng.xml\n",
      "/home/malavdnm/Desktop/Sem-8/CS728/assignment/data_assn1/data_assn1/Train/Source/pp-round.sents.trng.xml\n",
      "/home/malavdnm/Desktop/Sem-8/CS728/assignment/data_assn1/data_assn1/Train/Source/pp-off.sents.trng.xml\n",
      "/home/malavdnm/Desktop/Sem-8/CS728/assignment/data_assn1/data_assn1/Train/Source/pp-before.sents.trng.xml\n",
      "/home/malavdnm/Desktop/Sem-8/CS728/assignment/data_assn1/data_assn1/Train/Source/pp-from.sents.trng.xml\n",
      "/home/malavdnm/Desktop/Sem-8/CS728/assignment/data_assn1/data_assn1/Train/Source/pp-during.sents.trng.xml\n",
      "/home/malavdnm/Desktop/Sem-8/CS728/assignment/data_assn1/data_assn1/Train/Source/pp-as.sents.trng.xml\n",
      "/home/malavdnm/Desktop/Sem-8/CS728/assignment/data_assn1/data_assn1/Train/Source/pp-after.sents.trng.xml\n",
      "/home/malavdnm/Desktop/Sem-8/CS728/assignment/data_assn1/data_assn1/Train/Source/pp-beneath.sents.trng.xml\n",
      "/home/malavdnm/Desktop/Sem-8/CS728/assignment/data_assn1/data_assn1/Train/Source/pp-over.sents.trng.xml\n",
      "/home/malavdnm/Desktop/Sem-8/CS728/assignment/data_assn1/data_assn1/Train/Source/pp-between.sents.trng.xml\n",
      "/home/malavdnm/Desktop/Sem-8/CS728/assignment/data_assn1/data_assn1/Train/Source/pp-behind.sents.trng.xml\n",
      "/home/malavdnm/Desktop/Sem-8/CS728/assignment/data_assn1/data_assn1/Train/Source/pp-across.sents.trng.xml\n",
      "/home/malavdnm/Desktop/Sem-8/CS728/assignment/data_assn1/data_assn1/Train/Source/pp-beside.sents.trng.xml\n",
      "/home/malavdnm/Desktop/Sem-8/CS728/assignment/data_assn1/data_assn1/Train/Source/pp-about.sents.trng.xml\n",
      "/home/malavdnm/Desktop/Sem-8/CS728/assignment/data_assn1/data_assn1/Train/Source/pp-on.sents.trng.xml\n",
      "/home/malavdnm/Desktop/Sem-8/CS728/assignment/data_assn1/data_assn1/Train/Source/pp-towards.sents.trng.xml\n",
      "/home/malavdnm/Desktop/Sem-8/CS728/assignment/data_assn1/data_assn1/Train/Source/pp-of.sents.trng.xml\n",
      "/home/malavdnm/Desktop/Sem-8/CS728/assignment/data_assn1/data_assn1/Train/Source/pp-to.sents.trng.xml\n",
      "/home/malavdnm/Desktop/Sem-8/CS728/assignment/data_assn1/data_assn1/Train/Source/pp-in.sents.trng.xml\n",
      "/home/malavdnm/Desktop/Sem-8/CS728/assignment/data_assn1/data_assn1/Train/Source/pp-at.sents.trng.xml\n",
      "/home/malavdnm/Desktop/Sem-8/CS728/assignment/data_assn1/data_assn1/Train/Source/pp-like.sents.trng.xml\n"
     ]
    }
   ],
   "source": [
    "import os\n",
    "d = \"/home/malavdnm/Desktop/Sem-8/CS728/assignment/data_assn1/data_assn1/Train/Source\"\n",
    "# print(os.listdir(d))\n",
    "train=[]\n",
    "for path in os.listdir(d):\n",
    "    full_path = os.path.join(d, path)\n",
    "    if os.path.isfile(full_path):\n",
    "        print(full_path)\n",
    "        train.append(full_path)"
   ]
  },
  {
   "cell_type": "code",
   "execution_count": 11,
   "id": "every-worcester",
   "metadata": {},
   "outputs": [],
   "source": [
    "from xml.dom import minidom"
   ]
  },
  {
   "cell_type": "code",
   "execution_count": 63,
   "id": "progressive-yellow",
   "metadata": {},
   "outputs": [],
   "source": [
    "f=\"/home/malavdnm/Desktop/Sem-8/CS728/assignment/data_assn1/data_assn1/Train/Source/pp-about.sents.trng.xml\"\n",
    "mydoc = minidom.parse(\"/home/malavdnm/Desktop/Sem-8/CS728/assignment/data_assn1/data_assn1/Train/Source/pp-about.sents.trng.xml\"\n",
    ")\n"
   ]
  },
  {
   "cell_type": "code",
   "execution_count": 98,
   "id": "vietnamese-university",
   "metadata": {},
   "outputs": [
    {
     "name": "stdout",
     "output_type": "stream",
     "text": [
      "\n",
      "      He saw Owen redden with pleasure , and laughed , flinging an arm \n"
     ]
    },
    {
     "ename": "AttributeError",
     "evalue": "'NodeList' object has no attribute 'getElementsByTagName'",
     "output_type": "error",
     "traceback": [
      "\u001b[0;31m---------------------------------------------------------------------------\u001b[0m",
      "\u001b[0;31mAttributeError\u001b[0m                            Traceback (most recent call last)",
      "\u001b[0;32m<ipython-input-98-bc43b4a9eff3>\u001b[0m in \u001b[0;36m<module>\u001b[0;34m\u001b[0m\n\u001b[1;32m      3\u001b[0m     \u001b[0mx\u001b[0m\u001b[0;34m=\u001b[0m\u001b[0mitem\u001b[0m\u001b[0;34m.\u001b[0m\u001b[0mgetElementsByTagName\u001b[0m\u001b[0;34m(\u001b[0m\u001b[0;34m'context'\u001b[0m\u001b[0;34m)\u001b[0m\u001b[0;34m[\u001b[0m\u001b[0;36m0\u001b[0m\u001b[0;34m]\u001b[0m\u001b[0;34m\u001b[0m\u001b[0;34m\u001b[0m\u001b[0m\n\u001b[1;32m      4\u001b[0m     \u001b[0mprint\u001b[0m\u001b[0;34m(\u001b[0m\u001b[0mx\u001b[0m\u001b[0;34m.\u001b[0m\u001b[0mchildNodes\u001b[0m\u001b[0;34m[\u001b[0m\u001b[0;36m0\u001b[0m\u001b[0;34m]\u001b[0m\u001b[0;34m.\u001b[0m\u001b[0mdata\u001b[0m\u001b[0;34m)\u001b[0m\u001b[0;34m\u001b[0m\u001b[0;34m\u001b[0m\u001b[0m\n\u001b[0;32m----> 5\u001b[0;31m     \u001b[0mprint\u001b[0m\u001b[0;34m(\u001b[0m\u001b[0mx\u001b[0m\u001b[0;34m.\u001b[0m\u001b[0mchildNodes\u001b[0m\u001b[0;34m.\u001b[0m\u001b[0mgetElementsByTagName\u001b[0m\u001b[0;34m[\u001b[0m\u001b[0;34m'head'\u001b[0m\u001b[0;34m]\u001b[0m\u001b[0;34m)\u001b[0m\u001b[0;34m\u001b[0m\u001b[0;34m\u001b[0m\u001b[0m\n\u001b[0m\u001b[1;32m      6\u001b[0m \u001b[0;31m#     print(x.childNodes[1].data)\u001b[0m\u001b[0;34m\u001b[0m\u001b[0;34m\u001b[0m\u001b[0;34m\u001b[0m\u001b[0m\n",
      "\u001b[0;31mAttributeError\u001b[0m: 'NodeList' object has no attribute 'getElementsByTagName'"
     ]
    }
   ],
   "source": [
    "items = mydoc.getElementsByTagName('instance')\n",
    "for item in items[:2]:\n",
    "    x=item.getElementsByTagName('context')[0]\n",
    "    print(x.childNodes[0].data)\n",
    "    print(x.childNodes.getElementsByTagName['head'])\n",
    "#     print(x.childNodes[1].data)"
   ]
  },
  {
   "cell_type": "code",
   "execution_count": 45,
   "id": "written-worry",
   "metadata": {},
   "outputs": [
    {
     "ename": "AttributeError",
     "evalue": "'NodeList' object has no attribute 'text'",
     "output_type": "error",
     "traceback": [
      "\u001b[0;31m---------------------------------------------------------------------------\u001b[0m",
      "\u001b[0;31mAttributeError\u001b[0m                            Traceback (most recent call last)",
      "\u001b[0;32m<ipython-input-45-4cb8f3775005>\u001b[0m in \u001b[0;36m<module>\u001b[0;34m\u001b[0m\n\u001b[0;32m----> 1\u001b[0;31m \u001b[0mitems\u001b[0m\u001b[0;34m.\u001b[0m\u001b[0mtext\u001b[0m\u001b[0;34m.\u001b[0m\u001b[0mencode\u001b[0m\u001b[0;34m(\u001b[0m\u001b[0;34m'utf8'\u001b[0m\u001b[0;34m)\u001b[0m\u001b[0;34m\u001b[0m\u001b[0;34m\u001b[0m\u001b[0m\n\u001b[0m",
      "\u001b[0;31mAttributeError\u001b[0m: 'NodeList' object has no attribute 'text'"
     ]
    }
   ],
   "source": [
    "items.text.encode('utf8')"
   ]
  },
  {
   "cell_type": "code",
   "execution_count": 39,
   "id": "naval-remove",
   "metadata": {},
   "outputs": [
    {
     "ename": "TypeError",
     "evalue": "'method' object is not subscriptable",
     "output_type": "error",
     "traceback": [
      "\u001b[0;31m---------------------------------------------------------------------------\u001b[0m",
      "\u001b[0;31mTypeError\u001b[0m                                 Traceback (most recent call last)",
      "\u001b[0;32m<ipython-input-39-3bceb6f63404>\u001b[0m in \u001b[0;36m<module>\u001b[0;34m\u001b[0m\n\u001b[0;32m----> 1\u001b[0;31m \u001b[0mitems\u001b[0m\u001b[0;34m[\u001b[0m\u001b[0;36m0\u001b[0m\u001b[0;34m]\u001b[0m\u001b[0;34m.\u001b[0m\u001b[0mgetElementsByTagName\u001b[0m\u001b[0;34m[\u001b[0m\u001b[0;34m'context'\u001b[0m\u001b[0;34m]\u001b[0m\u001b[0;34m\u001b[0m\u001b[0;34m\u001b[0m\u001b[0m\n\u001b[0m",
      "\u001b[0;31mTypeError\u001b[0m: 'method' object is not subscriptable"
     ]
    }
   ],
   "source": [
    "items[0].getElementsByTagName['context']"
   ]
  },
  {
   "cell_type": "code",
   "execution_count": 46,
   "id": "banned-tuner",
   "metadata": {},
   "outputs": [
    {
     "ename": "NameError",
     "evalue": "name 'root' is not defined",
     "output_type": "error",
     "traceback": [
      "\u001b[0;31m---------------------------------------------------------------------------\u001b[0m",
      "\u001b[0;31mNameError\u001b[0m                                 Traceback (most recent call last)",
      "\u001b[0;32m<ipython-input-46-ac6d88e32f66>\u001b[0m in \u001b[0;36m<module>\u001b[0;34m\u001b[0m\n\u001b[0;32m----> 1\u001b[0;31m \u001b[0;32mfor\u001b[0m \u001b[0mitem\u001b[0m \u001b[0;32min\u001b[0m \u001b[0mroot\u001b[0m\u001b[0;34m.\u001b[0m\u001b[0mfindall\u001b[0m\u001b[0;34m(\u001b[0m\u001b[0;34m'./channel/item'\u001b[0m\u001b[0;34m)\u001b[0m\u001b[0;34m:\u001b[0m\u001b[0;34m\u001b[0m\u001b[0;34m\u001b[0m\u001b[0m\n\u001b[0m\u001b[1;32m      2\u001b[0m \u001b[0;34m\u001b[0m\u001b[0m\n\u001b[1;32m      3\u001b[0m         \u001b[0;31m# empty news dictionary\u001b[0m\u001b[0;34m\u001b[0m\u001b[0;34m\u001b[0m\u001b[0;34m\u001b[0m\u001b[0m\n\u001b[1;32m      4\u001b[0m         \u001b[0mnews\u001b[0m \u001b[0;34m=\u001b[0m \u001b[0;34m{\u001b[0m\u001b[0;34m}\u001b[0m\u001b[0;34m\u001b[0m\u001b[0;34m\u001b[0m\u001b[0m\n\u001b[1;32m      5\u001b[0m \u001b[0;34m\u001b[0m\u001b[0m\n",
      "\u001b[0;31mNameError\u001b[0m: name 'root' is not defined"
     ]
    }
   ],
   "source": [
    "for item in root.findall('./channel/item'):\n",
    "\n",
    "        # empty news dictionary\n",
    "        news = {}\n",
    "\n",
    "        # iterate child elements of item\n",
    "        for child in item:\n",
    "\n",
    "            # special checking for namespace object content:media\n",
    "            if child.tag == '{http://search.yahoo.com/mrss/}content':\n",
    "                news['media'] = child.attrib['url']\n",
    "            else:\n",
    "                news[child.tag] = child.text.encode('utf8')\n",
    "\n",
    "        # append news dictionary to news items list\n",
    "        newsitems.append(news)"
   ]
  },
  {
   "cell_type": "code",
   "execution_count": 81,
   "id": "hollow-theater",
   "metadata": {},
   "outputs": [
    {
     "name": "stdout",
     "output_type": "stream",
     "text": [
      "about.p.fn.336224\n"
     ]
    },
    {
     "ename": "AttributeError",
     "evalue": "'xml.etree.ElementTree.Element' object has no attribute 'child'",
     "output_type": "error",
     "traceback": [
      "\u001b[0;31m---------------------------------------------------------------------------\u001b[0m",
      "\u001b[0;31mAttributeError\u001b[0m                            Traceback (most recent call last)",
      "\u001b[0;32m<ipython-input-81-ee7cb3893951>\u001b[0m in \u001b[0;36m<module>\u001b[0;34m\u001b[0m\n\u001b[1;32m      7\u001b[0m \u001b[0;32mfor\u001b[0m \u001b[0mi\u001b[0m\u001b[0;34m,\u001b[0m \u001b[0minstance\u001b[0m \u001b[0;32min\u001b[0m \u001b[0menumerate\u001b[0m\u001b[0;34m(\u001b[0m\u001b[0mroot\u001b[0m\u001b[0;34m)\u001b[0m\u001b[0;34m:\u001b[0m\u001b[0;34m\u001b[0m\u001b[0;34m\u001b[0m\u001b[0m\n\u001b[1;32m      8\u001b[0m     \u001b[0mprint\u001b[0m\u001b[0;34m(\u001b[0m\u001b[0minstance\u001b[0m\u001b[0;34m.\u001b[0m\u001b[0mattrib\u001b[0m\u001b[0;34m[\u001b[0m\u001b[0;34m'id'\u001b[0m\u001b[0;34m]\u001b[0m\u001b[0;34m)\u001b[0m\u001b[0;34m\u001b[0m\u001b[0;34m\u001b[0m\u001b[0m\n\u001b[0;32m----> 9\u001b[0;31m     \u001b[0mprint\u001b[0m\u001b[0;34m(\u001b[0m\u001b[0minstance\u001b[0m\u001b[0;34m.\u001b[0m\u001b[0mchild\u001b[0m\u001b[0;34m.\u001b[0m\u001b[0mtag\u001b[0m\u001b[0;34m)\u001b[0m\u001b[0;34m\u001b[0m\u001b[0;34m\u001b[0m\u001b[0m\n\u001b[0m\u001b[1;32m     10\u001b[0m     \u001b[0mdata\u001b[0m\u001b[0;34m.\u001b[0m\u001b[0mappend\u001b[0m\u001b[0;34m(\u001b[0m\u001b[0;34m[\u001b[0m\u001b[0msubchild\u001b[0m\u001b[0;34m.\u001b[0m\u001b[0mtext\u001b[0m \u001b[0;32mfor\u001b[0m \u001b[0msubchild\u001b[0m \u001b[0;32min\u001b[0m \u001b[0mchild\u001b[0m\u001b[0;34m]\u001b[0m\u001b[0;34m)\u001b[0m\u001b[0;34m\u001b[0m\u001b[0;34m\u001b[0m\u001b[0m\n\u001b[1;32m     11\u001b[0m     \u001b[0mcols\u001b[0m\u001b[0;34m.\u001b[0m\u001b[0mappend\u001b[0m\u001b[0;34m(\u001b[0m\u001b[0mchild\u001b[0m\u001b[0;34m.\u001b[0m\u001b[0mtag\u001b[0m\u001b[0;34m)\u001b[0m\u001b[0;34m\u001b[0m\u001b[0;34m\u001b[0m\u001b[0m\n",
      "\u001b[0;31mAttributeError\u001b[0m: 'xml.etree.ElementTree.Element' object has no attribute 'child'"
     ]
    }
   ],
   "source": [
    "import xml.etree.ElementTree as ET\n",
    "xml_data = open(f, 'r').read()  # Read file\n",
    "root = ET.XML(xml_data)  # Parse XML\n",
    "\n",
    "data = []\n",
    "cols = []\n",
    "for i, instance in enumerate(root):\n",
    "    print(instance.attrib['id'])\n",
    "    print(instance.child.tag)\n",
    "    data.append([subchild.text for subchild in child])\n",
    "    cols.append(child.tag)"
   ]
  },
  {
   "cell_type": "code",
   "execution_count": 77,
   "id": "medical-presence",
   "metadata": {},
   "outputs": [
    {
     "data": {
      "text/html": [
       "<div>\n",
       "<style scoped>\n",
       "    .dataframe tbody tr th:only-of-type {\n",
       "        vertical-align: middle;\n",
       "    }\n",
       "\n",
       "    .dataframe tbody tr th {\n",
       "        vertical-align: top;\n",
       "    }\n",
       "\n",
       "    .dataframe thead th {\n",
       "        text-align: right;\n",
       "    }\n",
       "</style>\n",
       "<table border=\"1\" class=\"dataframe\">\n",
       "  <thead>\n",
       "    <tr style=\"text-align: right;\">\n",
       "      <th></th>\n",
       "      <th>instance</th>\n",
       "      <th>instance</th>\n",
       "      <th>instance</th>\n",
       "      <th>instance</th>\n",
       "      <th>instance</th>\n",
       "      <th>instance</th>\n",
       "      <th>instance</th>\n",
       "      <th>instance</th>\n",
       "      <th>instance</th>\n",
       "      <th>instance</th>\n",
       "      <th>...</th>\n",
       "      <th>instance</th>\n",
       "      <th>instance</th>\n",
       "      <th>instance</th>\n",
       "      <th>instance</th>\n",
       "      <th>instance</th>\n",
       "      <th>instance</th>\n",
       "      <th>instance</th>\n",
       "      <th>instance</th>\n",
       "      <th>instance</th>\n",
       "      <th>instance</th>\n",
       "    </tr>\n",
       "  </thead>\n",
       "  <tbody>\n",
       "    <tr>\n",
       "      <th>0</th>\n",
       "      <td>None</td>\n",
       "      <td>None</td>\n",
       "      <td>None</td>\n",
       "      <td>None</td>\n",
       "      <td>None</td>\n",
       "      <td>None</td>\n",
       "      <td>None</td>\n",
       "      <td>None</td>\n",
       "      <td>None</td>\n",
       "      <td>None</td>\n",
       "      <td>...</td>\n",
       "      <td>None</td>\n",
       "      <td>None</td>\n",
       "      <td>None</td>\n",
       "      <td>None</td>\n",
       "      <td>None</td>\n",
       "      <td>None</td>\n",
       "      <td>None</td>\n",
       "      <td>None</td>\n",
       "      <td>None</td>\n",
       "      <td>None</td>\n",
       "    </tr>\n",
       "    <tr>\n",
       "      <th>1</th>\n",
       "      <td>\\n      He saw Owen redden with pleasure , and...</td>\n",
       "      <td>\\n      ` But I do ! \" she exclaimed , almost ...</td>\n",
       "      <td>\\n      It would appear that , while there is ...</td>\n",
       "      <td>\\n      However , people do not usually live i...</td>\n",
       "      <td>\\n      A recent drama festival in Bihar , Cen...</td>\n",
       "      <td>\\n      This had left a problem in raising pub...</td>\n",
       "      <td>\\n      And through her appeal she hopes to ra...</td>\n",
       "      <td>\\n      In the remainder of this chapter I wil...</td>\n",
       "      <td>\\n      Because beliefs</td>\n",
       "      <td>\\n      He allowed himself , or claimed to all...</td>\n",
       "      <td>...</td>\n",
       "      <td>\\n      I heard an older couple joking</td>\n",
       "      <td>\\n      The way they joke</td>\n",
       "      <td>\\n      All week long , the Hollywood gossip</td>\n",
       "      <td>\\n      They exchanged banter and gossip</td>\n",
       "      <td>\\n      There is without a shadow of doubt som...</td>\n",
       "      <td>\\n      I 'll tell them malicious gossip</td>\n",
       "      <td>\\n      ` Joe heard the gossip</td>\n",
       "      <td>\\n      Father Devine went on to speak of his ...</td>\n",
       "      <td>\\n      Their conversation became more relaxed...</td>\n",
       "      <td>\\n      Moreover there was gossip</td>\n",
       "    </tr>\n",
       "  </tbody>\n",
       "</table>\n",
       "<p>2 rows × 710 columns</p>\n",
       "</div>"
      ],
      "text/plain": [
       "                                            instance  \\\n",
       "0                                               None   \n",
       "1  \\n      He saw Owen redden with pleasure , and...   \n",
       "\n",
       "                                            instance  \\\n",
       "0                                               None   \n",
       "1  \\n      ` But I do ! \" she exclaimed , almost ...   \n",
       "\n",
       "                                            instance  \\\n",
       "0                                               None   \n",
       "1  \\n      It would appear that , while there is ...   \n",
       "\n",
       "                                            instance  \\\n",
       "0                                               None   \n",
       "1  \\n      However , people do not usually live i...   \n",
       "\n",
       "                                            instance  \\\n",
       "0                                               None   \n",
       "1  \\n      A recent drama festival in Bihar , Cen...   \n",
       "\n",
       "                                            instance  \\\n",
       "0                                               None   \n",
       "1  \\n      This had left a problem in raising pub...   \n",
       "\n",
       "                                            instance  \\\n",
       "0                                               None   \n",
       "1  \\n      And through her appeal she hopes to ra...   \n",
       "\n",
       "                                            instance  \\\n",
       "0                                               None   \n",
       "1  \\n      In the remainder of this chapter I wil...   \n",
       "\n",
       "                   instance  \\\n",
       "0                      None   \n",
       "1  \\n      Because beliefs    \n",
       "\n",
       "                                            instance  ...  \\\n",
       "0                                               None  ...   \n",
       "1  \\n      He allowed himself , or claimed to all...  ...   \n",
       "\n",
       "                                  instance                    instance  \\\n",
       "0                                     None                        None   \n",
       "1  \\n      I heard an older couple joking   \\n      The way they joke    \n",
       "\n",
       "                                        instance  \\\n",
       "0                                           None   \n",
       "1  \\n      All week long , the Hollywood gossip    \n",
       "\n",
       "                                    instance  \\\n",
       "0                                       None   \n",
       "1  \\n      They exchanged banter and gossip    \n",
       "\n",
       "                                            instance  \\\n",
       "0                                               None   \n",
       "1  \\n      There is without a shadow of doubt som...   \n",
       "\n",
       "                                    instance                         instance  \\\n",
       "0                                       None                             None   \n",
       "1  \\n      I 'll tell them malicious gossip   \\n      ` Joe heard the gossip    \n",
       "\n",
       "                                            instance  \\\n",
       "0                                               None   \n",
       "1  \\n      Father Devine went on to speak of his ...   \n",
       "\n",
       "                                            instance  \\\n",
       "0                                               None   \n",
       "1  \\n      Their conversation became more relaxed...   \n",
       "\n",
       "                             instance  \n",
       "0                                None  \n",
       "1  \\n      Moreover there was gossip   \n",
       "\n",
       "[2 rows x 710 columns]"
      ]
     },
     "execution_count": 77,
     "metadata": {},
     "output_type": "execute_result"
    }
   ],
   "source": [
    "import pandas as pd\n",
    "df = pd.DataFrame(data).T  # Write in DF and transpose it\n",
    "df.columns = cols  # Update column names\n",
    "df"
   ]
  },
  {
   "cell_type": "code",
   "execution_count": 76,
   "id": "alert-kitchen",
   "metadata": {},
   "outputs": [
    {
     "data": {
      "text/plain": [
       "'\\n      He saw Owen redden with pleasure , and laughed , flinging an arm '"
      ]
     },
     "execution_count": 76,
     "metadata": {},
     "output_type": "execute_result"
    }
   ],
   "source": [
    "df.iloc[1][0]"
   ]
  },
  {
   "cell_type": "code",
   "execution_count": 86,
   "id": "large-wichita",
   "metadata": {},
   "outputs": [
    {
     "ename": "AttributeError",
     "evalue": "'str' object has no attribute 'getElementsByTagName'",
     "output_type": "error",
     "traceback": [
      "\u001b[0;31m---------------------------------------------------------------------------\u001b[0m",
      "\u001b[0;31mAttributeError\u001b[0m                            Traceback (most recent call last)",
      "\u001b[0;32m<ipython-input-86-de15d414e607>\u001b[0m in \u001b[0;36m<module>\u001b[0;34m\u001b[0m\n\u001b[0;32m----> 1\u001b[0;31m \u001b[0mx\u001b[0m \u001b[0;34m=\u001b[0m \u001b[0mxml_data\u001b[0m\u001b[0;34m.\u001b[0m\u001b[0mgetElementsByTagName\u001b[0m\u001b[0;34m(\u001b[0m\u001b[0;34m\"instance\"\u001b[0m\u001b[0;34m)\u001b[0m\u001b[0;34m[\u001b[0m\u001b[0;36m0\u001b[0m\u001b[0;34m]\u001b[0m\u001b[0;34m\u001b[0m\u001b[0;34m\u001b[0m\u001b[0m\n\u001b[0m\u001b[1;32m      2\u001b[0m \u001b[0ml\u001b[0m\u001b[0;34m=\u001b[0m\u001b[0mroot\u001b[0m\u001b[0;34m.\u001b[0m\u001b[0mchildNodes\u001b[0m\u001b[0;34m.\u001b[0m\u001b[0mlength\u001b[0m\u001b[0;34m\u001b[0m\u001b[0;34m\u001b[0m\u001b[0m\n\u001b[1;32m      3\u001b[0m \u001b[0ml\u001b[0m\u001b[0;34m\u001b[0m\u001b[0;34m\u001b[0m\u001b[0m\n",
      "\u001b[0;31mAttributeError\u001b[0m: 'str' object has no attribute 'getElementsByTagName'"
     ]
    }
   ],
   "source": [
    "x = xml_data.getElementsByTagName(\"instance\")[0]\n",
    "l=root.childNodes.length\n",
    "l"
   ]
  },
  {
   "cell_type": "code",
   "execution_count": null,
   "id": "otherwise-registrar",
   "metadata": {},
   "outputs": [],
   "source": []
  }
 ],
 "metadata": {
  "kernelspec": {
   "display_name": "Python 3",
   "language": "python",
   "name": "python3"
  },
  "language_info": {
   "codemirror_mode": {
    "name": "ipython",
    "version": 3
   },
   "file_extension": ".py",
   "mimetype": "text/x-python",
   "name": "python",
   "nbconvert_exporter": "python",
   "pygments_lexer": "ipython3",
   "version": "3.8.5"
  }
 },
 "nbformat": 4,
 "nbformat_minor": 5
}
